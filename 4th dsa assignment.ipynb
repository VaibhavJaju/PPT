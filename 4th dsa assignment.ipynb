{
 "cells": [
  {
   "cell_type": "code",
   "execution_count": 1,
   "id": "f68aa7cb",
   "metadata": {},
   "outputs": [
    {
     "name": "stdout",
     "output_type": "stream",
     "text": [
      "[1, 5]\n"
     ]
    }
   ],
   "source": [
    "#Question no1\n",
    "def commonElements(arr1, arr2, arr3):\n",
    "    result = []\n",
    "\n",
    "    i = j = k = 0\n",
    "    n1, n2, n3 = len(arr1), len(arr2), len(arr3)\n",
    "\n",
    "    # Find the common elements using three pointers\n",
    "    while i < n1 and j < n2 and k < n3:\n",
    "        if arr1[i] == arr2[j] == arr3[k]:\n",
    "            result.append(arr1[i])\n",
    "            i += 1\n",
    "            j += 1\n",
    "            k += 1\n",
    "        elif arr1[i] < arr2[j]:\n",
    "            i += 1\n",
    "        elif arr2[j] < arr3[k]:\n",
    "            j += 1\n",
    "        else:\n",
    "            k += 1\n",
    "\n",
    "    return result\n",
    "\n",
    "arr1 = [1, 2, 3, 4, 5]\n",
    "arr2 = [1, 2, 5, 7, 9]\n",
    "arr3 = [1, 3, 4, 5, 8]\n",
    "\n",
    "result = commonElements(arr1, arr2, arr3)\n",
    "print(result)\n"
   ]
  },
  {
   "cell_type": "code",
   "execution_count": 2,
   "id": "51e26b8d",
   "metadata": {},
   "outputs": [
    {
     "name": "stdout",
     "output_type": "stream",
     "text": [
      "[[1, 3], [4, 6]]\n"
     ]
    }
   ],
   "source": [
    "#Question no2\n",
    "def findDisjointArrays(nums1, nums2):\n",
    "    result = [[], []]\n",
    "    set1 = set(nums1)\n",
    "    set2 = set(nums2)\n",
    "\n",
    "    # Find distinct integers in nums1 not present in nums2\n",
    "    for num in nums1:\n",
    "        if num not in set2:\n",
    "            result[0].append(num)\n",
    "\n",
    "    # Find distinct integers in nums2 not present in nums1\n",
    "    for num in nums2:\n",
    "        if num not in set1:\n",
    "            result[1].append(num)\n",
    "\n",
    "    return result\n",
    "\n",
    "nums1 = [1, 2, 3]\n",
    "nums2 = [2, 4, 6]\n",
    "\n",
    "result = findDisjointArrays(nums1, nums2)\n",
    "print(result)\n"
   ]
  },
  {
   "cell_type": "code",
   "execution_count": 3,
   "id": "677424fd",
   "metadata": {},
   "outputs": [
    {
     "name": "stdout",
     "output_type": "stream",
     "text": [
      "[[1, 4, 7], [2, 5, 8], [3, 6, 9]]\n"
     ]
    }
   ],
   "source": [
    "#Question no3\n",
    "def transposeMatrix(matrix):\n",
    "    rows = len(matrix)\n",
    "    cols = len(matrix[0])\n",
    "\n",
    "    transpose = [[0] * rows for _ in range(cols)]\n",
    "\n",
    "    for i in range(rows):\n",
    "        for j in range(cols):\n",
    "            transpose[j][i] = matrix[i][j]\n",
    "\n",
    "    return transpose\n",
    "\n",
    "matrix = [[1, 2, 3], [4, 5, 6], [7, 8, 9]]\n",
    "\n",
    "transpose = transposeMatrix(matrix)\n",
    "print(transpose)\n"
   ]
  },
  {
   "cell_type": "code",
   "execution_count": 4,
   "id": "828e6f1a",
   "metadata": {},
   "outputs": [
    {
     "name": "stdout",
     "output_type": "stream",
     "text": [
      "Maximized sum: 4\n"
     ]
    }
   ],
   "source": [
    "#Question no4\n",
    "def arrayPairSum(nums):\n",
    "    sortedNums = sorted(nums)\n",
    "\n",
    "    maxSum = sum(sortedNums[::2])\n",
    "\n",
    "    return maxSum\n",
    "\n",
    "nums = [1, 4, 3, 2]\n",
    "maxSum = arrayPairSum(nums)\n",
    "print(\"Maximized sum:\", maxSum)\n"
   ]
  },
  {
   "cell_type": "code",
   "execution_count": 5,
   "id": "6d813f2c",
   "metadata": {},
   "outputs": [
    {
     "name": "stdout",
     "output_type": "stream",
     "text": [
      "Number of complete rows: 2\n"
     ]
    }
   ],
   "source": [
    "#Question no5\n",
    "import math\n",
    "\n",
    "def arrangeCoins(n):\n",
    "    return int(math.sqrt(2 * n + 0.25) - 0.5)\n",
    "\n",
    "n = 5\n",
    "completeRows = arrangeCoins(n)\n",
    "print(\"Number of complete rows:\", completeRows)\n"
   ]
  },
  {
   "cell_type": "code",
   "execution_count": 6,
   "id": "d1e81013",
   "metadata": {},
   "outputs": [
    {
     "name": "stdout",
     "output_type": "stream",
     "text": [
      "Sorted Squares: [0, 1, 9, 16, 100]\n"
     ]
    }
   ],
   "source": [
    "#Question no6\n",
    "def sortedSquares(nums):\n",
    "    n = len(nums)\n",
    "    result = [0] * n\n",
    "\n",
    "    left = 0\n",
    "    right = n - 1\n",
    "    index = n - 1\n",
    "\n",
    "    while left <= right:\n",
    "        if abs(nums[left]) > abs(nums[right]):\n",
    "            result[index] = nums[left] ** 2\n",
    "            left += 1\n",
    "        else:\n",
    "            result[index] = nums[right] ** 2\n",
    "            right -= 1\n",
    "        index -= 1\n",
    "\n",
    "    return result\n",
    "\n",
    "nums = [-4, -1, 0, 3, 10]\n",
    "squared = sortedSquares(nums)\n",
    "print(\"Sorted Squares:\", squared)\n"
   ]
  },
  {
   "cell_type": "code",
   "execution_count": 7,
   "id": "8854f636",
   "metadata": {},
   "outputs": [
    {
     "name": "stdout",
     "output_type": "stream",
     "text": [
      "Number of Maximum Integers: 4\n"
     ]
    }
   ],
   "source": [
    "#Question no7\n",
    "def maxCount(m, n, ops):\n",
    "    minX = m\n",
    "    minY = n\n",
    "    \n",
    "    for op in ops:\n",
    "        minX = min(minX, op[0])\n",
    "        minY = min(minY, op[1])\n",
    "    \n",
    "    return minX * minY\n",
    "\n",
    "m = 3\n",
    "n = 3\n",
    "ops = [[2, 2], [3, 3]]\n",
    "\n",
    "maxIntegers = maxCount(m, n, ops)\n",
    "\n",
    "print(\"Number of Maximum Integers:\", maxIntegers)\n"
   ]
  },
  {
   "cell_type": "code",
   "execution_count": 8,
   "id": "3b04ff27",
   "metadata": {},
   "outputs": [
    {
     "name": "stdout",
     "output_type": "stream",
     "text": [
      "Shuffled Array: [2, 3, 5, 4, 1, 7]\n"
     ]
    }
   ],
   "source": [
    "#Quetsion no8\n",
    "def shuffleArray(nums, n):\n",
    "    result = []\n",
    "    i = 0\n",
    "    j = n\n",
    "    \n",
    "    while i < n:\n",
    "        result.append(nums[i])\n",
    "        result.append(nums[j])\n",
    "        i += 1\n",
    "        j += 1\n",
    "    \n",
    "    return result\n",
    "\n",
    "nums = [2, 5, 1, 3, 4, 7]\n",
    "n = 3\n",
    "\n",
    "shuffledArray = shuffleArray(nums, n)\n",
    "\n",
    "print(\"Shuffled Array:\", shuffledArray)\n"
   ]
  },
  {
   "cell_type": "code",
   "execution_count": null,
   "id": "81ebeba5",
   "metadata": {},
   "outputs": [],
   "source": []
  }
 ],
 "metadata": {
  "kernelspec": {
   "display_name": "Python 3 (ipykernel)",
   "language": "python",
   "name": "python3"
  },
  "language_info": {
   "codemirror_mode": {
    "name": "ipython",
    "version": 3
   },
   "file_extension": ".py",
   "mimetype": "text/x-python",
   "name": "python",
   "nbconvert_exporter": "python",
   "pygments_lexer": "ipython3",
   "version": "3.10.6"
  }
 },
 "nbformat": 4,
 "nbformat_minor": 5
}
