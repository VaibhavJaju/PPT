{
 "cells": [
  {
   "cell_type": "code",
   "execution_count": 7,
   "id": "9b6a60af",
   "metadata": {},
   "outputs": [
    {
     "name": "stdout",
     "output_type": "stream",
     "text": [
      "Isomorphic yes/no? True\n"
     ]
    }
   ],
   "source": [
    "#Question no1\n",
    "def isIsomorphic(s, t):\n",
    "    if len(s) != len(t):\n",
    "        return False\n",
    "    \n",
    "    s_map = {}\n",
    "    t_map = {}\n",
    "    \n",
    "    for i in range(len(s)):\n",
    "        if s[i] in s_map:\n",
    "            if s_map[s[i]] != t[i]:\n",
    "                return False\n",
    "        else:\n",
    "            s_map[s[i]] = t[i]\n",
    "        \n",
    "        if t[i] in t_map:\n",
    "            if t_map[t[i]] != s[i]:\n",
    "                return False\n",
    "        else:\n",
    "            t_map[t[i]] = s[i]\n",
    "    \n",
    "    return True\n",
    "\n",
    "s = \"egg\"\n",
    "t = \"add\"\n",
    "\n",
    "isomorphic = isIsomorphic(s, t)\n",
    "\n",
    "print(\"Isomorphic yes/no?\", isomorphic)\n"
   ]
  },
  {
   "cell_type": "code",
   "execution_count": 8,
   "id": "eb928a35",
   "metadata": {},
   "outputs": [
    {
     "name": "stdout",
     "output_type": "stream",
     "text": [
      "True\n"
     ]
    }
   ],
   "source": [
    "#Question no2\n",
    "def isStrobogrammatic(num):\n",
    "    # Defining the strobogrammatic pairs of digits\n",
    "    strob_pairs = {'0': '0', '1': '1', '6': '9', '8': '8', '9': '6'}\n",
    "    \n",
    "    left, right = 0, len(num) - 1\n",
    "    \n",
    "    while left <= right:\n",
    "        # If the digits at left and right positions are not strobogrammatic pairs\n",
    "        if num[left] not in strob_pairs or num[right] not in strob_pairs:\n",
    "            return False\n",
    "        # If the digits at left and right positions are not the same after rotation\n",
    "        if strob_pairs[num[left]] != num[right]:\n",
    "            return False\n",
    "        left += 1\n",
    "        right -= 1\n",
    "    \n",
    "    # If the loop finishes without returning False, the number is strobogrammatic\n",
    "    return True\n",
    "\n",
    "num = \"69\"\n",
    "result = isStrobogrammatic(num)\n",
    "print(result)\n"
   ]
  },
  {
   "cell_type": "code",
   "execution_count": 18,
   "id": "7e11dc0d",
   "metadata": {},
   "outputs": [
    {
     "name": "stdout",
     "output_type": "stream",
     "text": [
      "134\n"
     ]
    }
   ],
   "source": [
    "#3rd question\n",
    "def addStrings(num1, num2):\n",
    "    p1, p2 = len(num1) - 1, len(num2) - 1\n",
    "    #store carry-over values\n",
    "    carry = 0\n",
    "    result = ''\n",
    "\n",
    "    while p1 >= 0 or p2 >= 0 or carry > 0:\n",
    "        digit_sum = carry\n",
    "        if p1 >= 0:\n",
    "            digit_sum += int(num1[p1])\n",
    "            p1 -= 1\n",
    "        if p2 >= 0:\n",
    "            digit_sum += int(num2[p2])\n",
    "            p2 -= 1\n",
    "        \n",
    "        # Determine the digit and carry for the current sum\n",
    "        digit = digit_sum % 10\n",
    "        carry = digit_sum // 10\n",
    "        \n",
    "        # Append the digit to the result string\n",
    "        result = str(digit) + result\n",
    "    \n",
    "    return result\n",
    "\n",
    "num1 = \"11\"\n",
    "num2 = \"123\"\n",
    "result = addStrings(num1, num2)\n",
    "print(result)\n"
   ]
  },
  {
   "cell_type": "code",
   "execution_count": 19,
   "id": "ed177be4",
   "metadata": {},
   "outputs": [
    {
     "name": "stdout",
     "output_type": "stream",
     "text": [
      "s'teL ekat edoCteeL tsetnoc\n"
     ]
    }
   ],
   "source": [
    "#Question no4\n",
    "def reverseWords(s):\n",
    "    # Split the sentence into individual words\n",
    "    words = s.split()\n",
    "    \n",
    "    # Reverse each word\n",
    "    reversed_words = [word[::-1] for word in words]\n",
    "    \n",
    "    # Join the reversed words back together with whitespace\n",
    "    reversed_sentence = ' '.join(reversed_words)\n",
    "    \n",
    "    return reversed_sentence\n",
    "\n",
    "s = \"Let's take LeetCode contest\"\n",
    "reversed_sentence = reverseWords(s)\n",
    "print(reversed_sentence)\n"
   ]
  },
  {
   "cell_type": "code",
   "execution_count": 17,
   "id": "b16dab7d",
   "metadata": {},
   "outputs": [
    {
     "name": "stdout",
     "output_type": "stream",
     "text": [
      "bacdfeg\n"
     ]
    }
   ],
   "source": [
    "#Question no5\n",
    "def reverseStr(s, k):\n",
    "    # Convert the string to a list of characters\n",
    "    chars = list(s)\n",
    "    \n",
    "    # Iterate through the string in steps of 2k\n",
    "    for i in range(0, len(chars), 2 * k):\n",
    "        # Reverse the first k characters in each group\n",
    "        chars[i:i+k] = chars[i:i+k][::-1]\n",
    "    \n",
    "    # Convert the list of characters back to a string\n",
    "    reversed_str = ''.join(chars)\n",
    "    \n",
    "    return reversed_str\n",
    "\n",
    "s = \"abcdefg\"\n",
    "k = 2\n",
    "reversed_str = reverseStr(s, k)\n",
    "print(reversed_str)\n"
   ]
  },
  {
   "cell_type": "code",
   "execution_count": 20,
   "id": "13dcc442",
   "metadata": {},
   "outputs": [
    {
     "name": "stdout",
     "output_type": "stream",
     "text": [
      "True\n"
     ]
    }
   ],
   "source": [
    "#question no6\n",
    "def rotateString(s, goal):\n",
    "    # Check if the length of s and goal are equal\n",
    "    if len(s) != len(goal):\n",
    "        return False\n",
    "    \n",
    "    # Concatenate s with itself\n",
    "    concatenated = s + s\n",
    "    \n",
    "    # Check if goal is a substring of the concatenated string\n",
    "    if goal in concatenated:\n",
    "        return True\n",
    "    else:\n",
    "        return False\n",
    "\n",
    "s = \"abcde\"\n",
    "goal = \"cdeab\"\n",
    "result = rotateString(s, goal)\n",
    "print(result)\n"
   ]
  },
  {
   "cell_type": "code",
   "execution_count": 21,
   "id": "d1a22b61",
   "metadata": {},
   "outputs": [
    {
     "name": "stdout",
     "output_type": "stream",
     "text": [
      "True\n"
     ]
    }
   ],
   "source": [
    "#Question no7\n",
    "def backspaceCompare(s, t):\n",
    "    def buildString(string):\n",
    "        stack = []\n",
    "        for char in string:\n",
    "            if char != '#':\n",
    "                stack.append(char)\n",
    "            elif stack:\n",
    "                stack.pop()\n",
    "        return ''.join(stack)\n",
    "    \n",
    "    return buildString(s) == buildString(t)\n",
    "\n",
    "# Example usage\n",
    "s = \"ab#c\"\n",
    "t = \"ad#c\"\n",
    "result = backspaceCompare(s, t)\n",
    "print(result)\n",
    "\n"
   ]
  },
  {
   "cell_type": "code",
   "execution_count": 22,
   "id": "aeb341d3",
   "metadata": {},
   "outputs": [
    {
     "name": "stdout",
     "output_type": "stream",
     "text": [
      "True\n"
     ]
    }
   ],
   "source": [
    "#Question no8\n",
    "def checkStraightLine(coordinates):\n",
    "    # Check if the number of points is less than 2\n",
    "    if len(coordinates) < 2:\n",
    "        return False\n",
    "    \n",
    "    # Calculate the slope between the first two points\n",
    "    x0, y0 = coordinates[0]\n",
    "    x1, y1 = coordinates[1]\n",
    "    slope = (y1 - y0) / (x1 - x0) if x1 - x0 != 0 else float('inf')\n",
    "    \n",
    "    # Check the slope between each consecutive pair of points\n",
    "    for i in range(2, len(coordinates)):\n",
    "        x0, y0 = coordinates[i-1]\n",
    "        x1, y1 = coordinates[i]\n",
    "        curr_slope = (y1 - y0) / (x1 - x0) if x1 - x0 != 0 else float('inf')\n",
    "        if curr_slope != slope:\n",
    "            return False\n",
    "    \n",
    "    return True\n",
    "\n",
    "# Example usage\n",
    "coordinates = [[1,2],[2,3],[3,4],[4,5],[5,6],[6,7]]\n",
    "result = checkStraightLine(coordinates)\n",
    "print(result)\n"
   ]
  },
  {
   "cell_type": "code",
   "execution_count": null,
   "id": "b55c1cea",
   "metadata": {},
   "outputs": [],
   "source": []
  }
 ],
 "metadata": {
  "kernelspec": {
   "display_name": "Python 3 (ipykernel)",
   "language": "python",
   "name": "python3"
  },
  "language_info": {
   "codemirror_mode": {
    "name": "ipython",
    "version": 3
   },
   "file_extension": ".py",
   "mimetype": "text/x-python",
   "name": "python",
   "nbconvert_exporter": "python",
   "pygments_lexer": "ipython3",
   "version": "3.10.6"
  }
 },
 "nbformat": 4,
 "nbformat_minor": 5
}
