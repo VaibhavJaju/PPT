{
 "cells": [
  {
   "cell_type": "code",
   "execution_count": 1,
   "id": "c62e7daa-ddf7-47e5-9483-3e56f6aa52a4",
   "metadata": {},
   "outputs": [
    {
     "name": "stdout",
     "output_type": "stream",
     "text": [
      "4\n"
     ]
    }
   ],
   "source": [
    "## Question 1\n",
    "\n",
    "def arrayPairSum(nums):\n",
    "    nums.sort()  # Sort the array in ascending order\n",
    "    pair_sum = 0\n",
    "    for i in range(0, len(nums), 2):\n",
    "        pair_sum += min(nums[i], nums[i + 1])\n",
    "    return pair_sum\n",
    "\n",
    "# Example usage:\n",
    "nums = [1, 4, 3, 2]\n",
    "maximized_sum = arrayPairSum(nums)\n",
    "print(maximized_sum)"
   ]
  },
  {
   "cell_type": "code",
   "execution_count": 2,
   "id": "748ee1d9-fb46-413e-82be-df5d02e9217e",
   "metadata": {},
   "outputs": [
    {
     "name": "stdout",
     "output_type": "stream",
     "text": [
      "3\n"
     ]
    }
   ],
   "source": [
    "## Question 2\n",
    "\n",
    "def maxCandies(candyType):\n",
    "    unique_types = len(set(candyType))\n",
    "    half_candies = len(candyType) // 2\n",
    "    return min(unique_types, half_candies)\n",
    "\n",
    "# Example usage:\n",
    "candyType = [1, 1, 2, 2, 3, 3]\n",
    "max_different_types = maxCandies(candyType)\n",
    "print(max_different_types)"
   ]
  },
  {
   "cell_type": "code",
   "execution_count": 3,
   "id": "93e27335-2d91-47b1-bc6b-0fcfb7614fb8",
   "metadata": {},
   "outputs": [
    {
     "name": "stdout",
     "output_type": "stream",
     "text": [
      "5\n"
     ]
    }
   ],
   "source": [
    "## Question 3\n",
    "from collections import Counter\n",
    "\n",
    "def findLHS(nums):\n",
    "    num_counts = Counter(nums)  # Count the occurrences of each number\n",
    "\n",
    "    max_length = 0\n",
    "    for num in num_counts:\n",
    "        if num + 1 in num_counts:  # Check if the next number exists in the counts\n",
    "            curr_length = num_counts[num] + num_counts[num + 1]\n",
    "            max_length = max(max_length, curr_length)\n",
    "\n",
    "    return max_length\n",
    "\n",
    "# Example usage:\n",
    "nums = [1, 3, 2, 2, 5, 2, 3, 7]\n",
    "longest_harmonious_length = findLHS(nums)\n",
    "print(longest_harmonious_length)"
   ]
  },
  {
   "cell_type": "code",
   "execution_count": 4,
   "id": "f2c6da5b-65f7-4060-ba6f-551ae8b56a9f",
   "metadata": {},
   "outputs": [
    {
     "name": "stdout",
     "output_type": "stream",
     "text": [
      "True\n"
     ]
    }
   ],
   "source": [
    "## Question 4\n",
    "def canPlaceFlowers(flowerbed, n):\n",
    "    count = 0\n",
    "    i = 0\n",
    "    while i < len(flowerbed):\n",
    "        if flowerbed[i] == 0 and (i == 0 or flowerbed[i-1] == 0) and (i == len(flowerbed)-1 or flowerbed[i+1] == 0):\n",
    "            flowerbed[i] = 1\n",
    "            count += 1\n",
    "        i += 1\n",
    "\n",
    "    return count >= n\n",
    "\n",
    "# Example usage:\n",
    "flowerbed = [1, 0, 0, 0, 1]\n",
    "n = 1\n",
    "can_plant = canPlaceFlowers(flowerbed, n)\n",
    "print(can_plant)"
   ]
  },
  {
   "cell_type": "code",
   "execution_count": 5,
   "id": "c7472d1d-1cf2-468a-bb01-7c591c42dc7f",
   "metadata": {},
   "outputs": [
    {
     "name": "stdout",
     "output_type": "stream",
     "text": [
      "6\n"
     ]
    }
   ],
   "source": [
    "## Question 5\n",
    "def maximumProduct(nums):\n",
    "    nums.sort()  # Sort the array in ascending order\n",
    "\n",
    "    # Calculate potential products\n",
    "    product1 = nums[-1] * nums[-2] * nums[-3]\n",
    "    product2 = nums[0] * nums[1] * nums[-1]\n",
    "\n",
    "    return max(product1, product2)\n",
    "\n",
    "# Example usage:\n",
    "nums = [1, 2, 3]\n",
    "max_product = maximumProduct(nums)\n",
    "print(max_product)"
   ]
  },
  {
   "cell_type": "code",
   "execution_count": 6,
   "id": "22435654-d38e-4ea5-aa03-954d7e00a258",
   "metadata": {},
   "outputs": [
    {
     "name": "stdout",
     "output_type": "stream",
     "text": [
      "4\n"
     ]
    }
   ],
   "source": [
    "## Question 6\n",
    "def search(nums, target):\n",
    "    left = 0\n",
    "    right = len(nums) - 1\n",
    "\n",
    "    while left <= right:\n",
    "        midpoint = (left + right) // 2\n",
    "        if nums[midpoint] == target:\n",
    "            return midpoint\n",
    "        elif nums[midpoint] < target:\n",
    "            left = midpoint + 1\n",
    "        else:\n",
    "            right = midpoint - 1\n",
    "\n",
    "    return -1\n",
    "\n",
    "# Example usage:\n",
    "nums = [-1, 0, 3, 5, 9, 12]\n",
    "target = 9\n",
    "index = search(nums, target)\n",
    "print(index)"
   ]
  },
  {
   "cell_type": "code",
   "execution_count": 7,
   "id": "7c25f1c7-b8de-42ad-a85e-d1fe0cc27a4e",
   "metadata": {},
   "outputs": [
    {
     "name": "stdout",
     "output_type": "stream",
     "text": [
      "True\n"
     ]
    }
   ],
   "source": [
    "## Question 7\n",
    "def isMonotonic(nums):\n",
    "    is_increasing = True\n",
    "    is_decreasing = True\n",
    "\n",
    "    for i in range(1, len(nums)):\n",
    "        if nums[i] > nums[i - 1]:\n",
    "            is_decreasing = False\n",
    "        if nums[i] < nums[i - 1]:\n",
    "            is_increasing = False\n",
    "\n",
    "    return is_increasing or is_decreasing\n",
    "\n",
    "# Example usage:\n",
    "nums = [1, 2, 2, 3]\n",
    "is_monotonic = isMonotonic(nums)\n",
    "print(is_monotonic)"
   ]
  },
  {
   "cell_type": "code",
   "execution_count": 8,
   "id": "5c44aaf6-3582-48fc-9893-97d855f654c0",
   "metadata": {},
   "outputs": [
    {
     "name": "stdout",
     "output_type": "stream",
     "text": [
      "0\n"
     ]
    }
   ],
   "source": [
    "## Question 8\n",
    "def minimumScore(nums, k):\n",
    "    initial_diff = max(nums) - min(nums)\n",
    "\n",
    "    for element in nums:\n",
    "        new_max = max(element + k, max(nums))\n",
    "        new_min = min(element - k, min(nums))\n",
    "        new_diff = new_max - new_min\n",
    "        initial_diff = min(initial_diff, new_diff)\n",
    "\n",
    "    return initial_diff\n",
    "\n",
    "# Example usage:\n",
    "nums = [1]\n",
    "k = 0\n",
    "min_score = minimumScore(nums, k)\n",
    "print(min_score)"
   ]
  },
  {
   "cell_type": "code",
   "execution_count": null,
   "id": "588c6269-0269-4bf7-956f-8849115f05aa",
   "metadata": {},
   "outputs": [],
   "source": []
  }
 ],
 "metadata": {
  "kernelspec": {
   "display_name": "Python 3 (ipykernel)",
   "language": "python",
   "name": "python3"
  },
  "language_info": {
   "codemirror_mode": {
    "name": "ipython",
    "version": 3
   },
   "file_extension": ".py",
   "mimetype": "text/x-python",
   "name": "python",
   "nbconvert_exporter": "python",
   "pygments_lexer": "ipython3",
   "version": "3.10.8"
  }
 },
 "nbformat": 4,
 "nbformat_minor": 5
}
